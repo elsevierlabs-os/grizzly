{
 "cells": [
  {
   "cell_type": "code",
   "execution_count": null,
   "metadata": {},
   "outputs": [],
   "source": [
    "import rdflib\n",
    "import grizzly as gz\n",
    "from grizzly.types import LangStr, TypedStr\n",
    "import time"
   ]
  },
  {
   "cell_type": "code",
   "execution_count": null,
   "metadata": {},
   "outputs": [],
   "source": [
    "graph = rdflib.Graph()\n",
    "g = graph.parse('nalt-core_dwn_20240716.ttl', format='ttl')"
   ]
  },
  {
   "cell_type": "code",
   "execution_count": null,
   "metadata": {},
   "outputs": [],
   "source": [
    "g.serialize(destination='nalt-core_dwn_20240716.nt', format='nt')"
   ]
  },
  {
   "cell_type": "code",
   "execution_count": null,
   "metadata": {},
   "outputs": [],
   "source": [
    "import pyximport; pyximport.install()\n",
    "\n",
    "import cyparser\n",
    "import cyparser2\n",
    "import cyparser3\n",
    "import cyparser4\n",
    "import cyparser5\n",
    "import cyparser6\n",
    "import cyparser7\n"
   ]
  },
  {
   "cell_type": "code",
   "execution_count": null,
   "metadata": {},
   "outputs": [],
   "source": [
    "def parse(string):\n",
    "\n",
    "    # t0 = time.time()\n",
    "\n",
    "    whitespace = {' ', '\\n', '\\t'}\n",
    "\n",
    "    triples = []\n",
    "\n",
    "    subject = None\n",
    "    predicate = None\n",
    "    object = None\n",
    "\n",
    "    start = 0\n",
    "    uri = False\n",
    "    literal = False\n",
    "    lang = False\n",
    "\n",
    "    for i, c in enumerate(string):\n",
    "        if uri and c != '>':\n",
    "            continue\n",
    "        elif literal and c != '\"':\n",
    "            continue\n",
    "        elif c == '<' and not literal:\n",
    "            start = i + 1\n",
    "            uri = True\n",
    "        elif c == '>' and uri:\n",
    "            value = string[start:i]\n",
    "            start = 0\n",
    "            uri = False\n",
    "            if subject is None:\n",
    "                subject = value\n",
    "            elif predicate is None:\n",
    "                predicate = value\n",
    "            else:\n",
    "                triples.append((subject, predicate, value))\n",
    "                subject = None\n",
    "                predicate = None\n",
    "        elif c == '\"' and not literal:\n",
    "            start = i + 1\n",
    "            literal = True\n",
    "        elif c == '\"' and literal:\n",
    "            object = string[start:i]\n",
    "            start = 0\n",
    "            literal = False\n",
    "            # if not (subject and predicate):\n",
    "            #     raise Exception\n",
    "        elif c == '@' and object:\n",
    "            start = i + 1\n",
    "            lang = True\n",
    "        # elif c =='^' and object:\n",
    "\n",
    "        elif c in whitespace and lang:\n",
    "            value = string[start:i]\n",
    "            start = 0\n",
    "            lang = False\n",
    "            triples.append((subject, predicate, LangStr(object).set_lang(value)))\n",
    "            subject = None\n",
    "            predicate = None\n",
    "            object = None\n",
    "        elif c in whitespace and object:\n",
    "            triples.append((subject, predicate, TypedStr(object)))\n",
    "            subject = None\n",
    "            predicate = None\n",
    "            object = None\n",
    "\n",
    "    # print(time.time() - t0)\n",
    "    return triples"
   ]
  },
  {
   "cell_type": "code",
   "execution_count": null,
   "metadata": {},
   "outputs": [],
   "source": [
    "def load_triples_grizzly(filename):\n",
    "\n",
    "    with open(filename) as f:\n",
    "        string = f.read()\n",
    "    triples = parse(string)\n",
    "    return gz.Graph(triples)\n",
    "\n",
    "def load_triples_rdflib(filename):\n",
    "\n",
    "    graph = rdflib.Graph()\n",
    "    g = graph.parse(filename, format='nt')\n",
    "    return graph\n"
   ]
  },
  {
   "cell_type": "code",
   "execution_count": null,
   "metadata": {},
   "outputs": [],
   "source": [
    "def load_triples_grizzly_cython(filename, parser):\n",
    "\n",
    "    with open(filename) as f:\n",
    "        string = f.read()\n",
    "    triples = parser.parse(string)\n",
    "    return gz.Graph(triples)"
   ]
  },
  {
   "cell_type": "code",
   "execution_count": null,
   "metadata": {},
   "outputs": [],
   "source": [
    "filename = 'nalt-core_dwn_20240716.nt'\n",
    "with open(filename) as f:\n",
    "    string = f.read()"
   ]
  },
  {
   "cell_type": "code",
   "execution_count": null,
   "metadata": {},
   "outputs": [],
   "source": [
    "%timeit -n 1 -r 1 load_triples_rdflib(filename)"
   ]
  },
  {
   "cell_type": "code",
   "execution_count": null,
   "metadata": {},
   "outputs": [],
   "source": [
    "%timeit -n 1 -r 1  load_triples_grizzly(filename)"
   ]
  },
  {
   "cell_type": "code",
   "execution_count": null,
   "metadata": {},
   "outputs": [],
   "source": [
    "%timeit -n 1 -r 1 cyparser2.load_triples_grizzly_cython(filename)"
   ]
  },
  {
   "cell_type": "code",
   "execution_count": null,
   "metadata": {},
   "outputs": [],
   "source": [
    "%timeit -n 1 -r 1 parse(string)"
   ]
  },
  {
   "cell_type": "code",
   "execution_count": null,
   "metadata": {},
   "outputs": [],
   "source": [
    "%timeit cyparser.parse(string)\n"
   ]
  },
  {
   "cell_type": "code",
   "execution_count": null,
   "metadata": {},
   "outputs": [],
   "source": [
    "%timeit cyparser2.parse(string)"
   ]
  },
  {
   "cell_type": "code",
   "execution_count": null,
   "metadata": {},
   "outputs": [],
   "source": [
    "%timeit cyparser3.parse(string)"
   ]
  },
  {
   "cell_type": "code",
   "execution_count": null,
   "metadata": {},
   "outputs": [],
   "source": [
    "%timeit cyparser4.parse(string)"
   ]
  },
  {
   "cell_type": "code",
   "execution_count": null,
   "metadata": {},
   "outputs": [],
   "source": [
    "%timeit cyparser5.parse(string)"
   ]
  },
  {
   "cell_type": "code",
   "execution_count": null,
   "metadata": {},
   "outputs": [],
   "source": [
    "%timeit cyparser6.parse(string.encode('utf-8'))"
   ]
  },
  {
   "cell_type": "code",
   "execution_count": null,
   "metadata": {},
   "outputs": [],
   "source": [
    "%timeit cyparser7.parse(string.encode('utf-8'))"
   ]
  },
  {
   "cell_type": "code",
   "execution_count": null,
   "metadata": {},
   "outputs": [],
   "source": [
    "t = cyparser7.parse(string.encode('utf-8'))\n",
    "t"
   ]
  },
  {
   "cell_type": "code",
   "execution_count": null,
   "metadata": {},
   "outputs": [],
   "source": [
    "g = gz.Graph(t)"
   ]
  },
  {
   "cell_type": "code",
   "execution_count": null,
   "metadata": {},
   "outputs": [],
   "source": [
    "len(t)"
   ]
  },
  {
   "cell_type": "code",
   "execution_count": null,
   "metadata": {},
   "outputs": [],
   "source": [
    "rdflib_g = load_triples_rdflib(filename)\n",
    "len(rdflib_g)"
   ]
  },
  {
   "cell_type": "code",
   "execution_count": null,
   "metadata": {},
   "outputs": [],
   "source": [
    "g2 = gz.read_turtle(filename)\n",
    "g2"
   ]
  },
  {
   "cell_type": "code",
   "execution_count": null,
   "metadata": {},
   "outputs": [],
   "source": [
    "g2.query('''SELECT ?s ?o WHERE {?s a ?o .} LIMIT 10''').decode()"
   ]
  },
  {
   "cell_type": "code",
   "execution_count": null,
   "metadata": {},
   "outputs": [],
   "source": [
    "t = cyparser7.parse(\"\"\"\n",
    "<bla> <bli> <blup>, <x>, \"test\" ;\n",
    "     <a> <b> .\n",
    "\"\"\".encode('utf-8'))\n",
    "t"
   ]
  }
 ],
 "metadata": {
  "kernelspec": {
   "display_name": "Python 3",
   "language": "python",
   "name": "python3"
  },
  "language_info": {
   "codemirror_mode": {
    "name": "ipython",
    "version": 3
   },
   "file_extension": ".py",
   "mimetype": "text/x-python",
   "name": "python",
   "nbconvert_exporter": "python",
   "pygments_lexer": "ipython3",
   "version": "3.11.4"
  }
 },
 "nbformat": 4,
 "nbformat_minor": 2
}
